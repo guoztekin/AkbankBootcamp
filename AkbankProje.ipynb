{
  "nbformat": 4,
  "nbformat_minor": 0,
  "metadata": {
    "colab": {
      "provenance": [],
      "authorship_tag": "ABX9TyOD0KJtoL8KEKR7fwuLP9iD",
      "include_colab_link": true
    },
    "kernelspec": {
      "name": "python3",
      "display_name": "Python 3"
    },
    "language_info": {
      "name": "python"
    }
  },
  "cells": [
    {
      "cell_type": "markdown",
      "metadata": {
        "id": "view-in-github",
        "colab_type": "text"
      },
      "source": [
        "<a href=\"https://colab.research.google.com/github/guoztekin/AkbankBootcamp/blob/main/AkbankProje.ipynb\" target=\"_parent\"><img src=\"https://colab.research.google.com/assets/colab-badge.svg\" alt=\"Open In Colab\"/></a>"
      ]
    },
    {
      "cell_type": "code",
      "execution_count": 2,
      "metadata": {
        "colab": {
          "base_uri": "https://localhost:8080/",
          "height": 946
        },
        "id": "jSWKyj2Mcdly",
        "outputId": "0971880a-2331-419b-9d7c-a4688fb9b2ad"
      },
      "outputs": [
        {
          "output_type": "stream",
          "name": "stdout",
          "text": [
            "\n",
            "*** MENU ***\n",
            "1) List Books\n",
            "2) Add Book\n",
            "3) Remove Book\n",
            "Enter your choice : 2\n",
            "Enter book name: korkma ben varım\n",
            "Enter author: murat mentes\n",
            "Enter release date: 2013\n",
            "Enter number of pages: 123\n",
            "Book added successfully!!!\n",
            "\n",
            "*** MENU ***\n",
            "1) List Books\n",
            "2) Add Book\n",
            "3) Remove Book\n",
            "Enter your choice : 2\n",
            "Enter book name: huzursuzluj\n",
            "Enter author: zülfü livaneli\n",
            "Enter release date: 2009\n",
            "Enter number of pages: 133\n",
            "Book added successfully!!!\n",
            "\n",
            "*** MENU ***\n",
            "1) List Books\n",
            "2) Add Book\n",
            "3) Remove Book\n",
            "Enter your choice : 1\n",
            "  Book Name                 Author               Release Date         Number of Page\n",
            "korkma ben varım ,         murat mentes ,        2013 ,                123\n",
            "huzursuzluj ,              zülfü livaneli ,      2009 ,                133\n",
            "\n",
            "*** MENU ***\n",
            "1) List Books\n",
            "2) Add Book\n",
            "3) Remove Book\n"
          ]
        },
        {
          "output_type": "error",
          "ename": "KeyboardInterrupt",
          "evalue": "Interrupted by user",
          "traceback": [
            "\u001b[0;31m---------------------------------------------------------------------------\u001b[0m",
            "\u001b[0;31mKeyboardInterrupt\u001b[0m                         Traceback (most recent call last)",
            "\u001b[0;32m<ipython-input-2-84bd8878b562>\u001b[0m in \u001b[0;36m<cell line: 73>\u001b[0;34m()\u001b[0m\n\u001b[1;32m     72\u001b[0m \u001b[0;34m\u001b[0m\u001b[0m\n\u001b[1;32m     73\u001b[0m \u001b[0;32mif\u001b[0m \u001b[0m__name__\u001b[0m \u001b[0;34m==\u001b[0m \u001b[0;34m\"__main__\"\u001b[0m\u001b[0;34m:\u001b[0m\u001b[0;34m\u001b[0m\u001b[0;34m\u001b[0m\u001b[0m\n\u001b[0;32m---> 74\u001b[0;31m     \u001b[0mmain\u001b[0m\u001b[0;34m(\u001b[0m\u001b[0;34m)\u001b[0m\u001b[0;34m\u001b[0m\u001b[0;34m\u001b[0m\u001b[0m\n\u001b[0m",
            "\u001b[0;32m<ipython-input-2-84bd8878b562>\u001b[0m in \u001b[0;36mmain\u001b[0;34m()\u001b[0m\n\u001b[1;32m     60\u001b[0m         \u001b[0mprint\u001b[0m\u001b[0;34m(\u001b[0m\u001b[0;34m\"2) Add Book\"\u001b[0m\u001b[0;34m)\u001b[0m\u001b[0;34m\u001b[0m\u001b[0;34m\u001b[0m\u001b[0m\n\u001b[1;32m     61\u001b[0m         \u001b[0mprint\u001b[0m\u001b[0;34m(\u001b[0m\u001b[0;34m\"3) Remove Book\"\u001b[0m\u001b[0;34m)\u001b[0m\u001b[0;34m\u001b[0m\u001b[0;34m\u001b[0m\u001b[0m\n\u001b[0;32m---> 62\u001b[0;31m         \u001b[0mchoice\u001b[0m \u001b[0;34m=\u001b[0m \u001b[0minput\u001b[0m\u001b[0;34m(\u001b[0m\u001b[0;34m\"Enter your choice : \"\u001b[0m\u001b[0;34m)\u001b[0m\u001b[0;34m\u001b[0m\u001b[0;34m\u001b[0m\u001b[0m\n\u001b[0m\u001b[1;32m     63\u001b[0m \u001b[0;34m\u001b[0m\u001b[0m\n\u001b[1;32m     64\u001b[0m         \u001b[0;32mif\u001b[0m \u001b[0mchoice\u001b[0m \u001b[0;34m==\u001b[0m \u001b[0;34m'1'\u001b[0m\u001b[0;34m:\u001b[0m\u001b[0;34m\u001b[0m\u001b[0;34m\u001b[0m\u001b[0m\n",
            "\u001b[0;32m/usr/local/lib/python3.10/dist-packages/ipykernel/kernelbase.py\u001b[0m in \u001b[0;36mraw_input\u001b[0;34m(self, prompt)\u001b[0m\n\u001b[1;32m    849\u001b[0m                 \u001b[0;34m\"raw_input was called, but this frontend does not support input requests.\"\u001b[0m\u001b[0;34m\u001b[0m\u001b[0;34m\u001b[0m\u001b[0m\n\u001b[1;32m    850\u001b[0m             )\n\u001b[0;32m--> 851\u001b[0;31m         return self._input_request(str(prompt),\n\u001b[0m\u001b[1;32m    852\u001b[0m             \u001b[0mself\u001b[0m\u001b[0;34m.\u001b[0m\u001b[0m_parent_ident\u001b[0m\u001b[0;34m,\u001b[0m\u001b[0;34m\u001b[0m\u001b[0;34m\u001b[0m\u001b[0m\n\u001b[1;32m    853\u001b[0m             \u001b[0mself\u001b[0m\u001b[0;34m.\u001b[0m\u001b[0m_parent_header\u001b[0m\u001b[0;34m,\u001b[0m\u001b[0;34m\u001b[0m\u001b[0;34m\u001b[0m\u001b[0m\n",
            "\u001b[0;32m/usr/local/lib/python3.10/dist-packages/ipykernel/kernelbase.py\u001b[0m in \u001b[0;36m_input_request\u001b[0;34m(self, prompt, ident, parent, password)\u001b[0m\n\u001b[1;32m    893\u001b[0m             \u001b[0;32mexcept\u001b[0m \u001b[0mKeyboardInterrupt\u001b[0m\u001b[0;34m:\u001b[0m\u001b[0;34m\u001b[0m\u001b[0;34m\u001b[0m\u001b[0m\n\u001b[1;32m    894\u001b[0m                 \u001b[0;31m# re-raise KeyboardInterrupt, to truncate traceback\u001b[0m\u001b[0;34m\u001b[0m\u001b[0;34m\u001b[0m\u001b[0m\n\u001b[0;32m--> 895\u001b[0;31m                 \u001b[0;32mraise\u001b[0m \u001b[0mKeyboardInterrupt\u001b[0m\u001b[0;34m(\u001b[0m\u001b[0;34m\"Interrupted by user\"\u001b[0m\u001b[0;34m)\u001b[0m \u001b[0;32mfrom\u001b[0m \u001b[0;32mNone\u001b[0m\u001b[0;34m\u001b[0m\u001b[0;34m\u001b[0m\u001b[0m\n\u001b[0m\u001b[1;32m    896\u001b[0m             \u001b[0;32mexcept\u001b[0m \u001b[0mException\u001b[0m \u001b[0;32mas\u001b[0m \u001b[0me\u001b[0m\u001b[0;34m:\u001b[0m\u001b[0;34m\u001b[0m\u001b[0;34m\u001b[0m\u001b[0m\n\u001b[1;32m    897\u001b[0m                 \u001b[0mself\u001b[0m\u001b[0;34m.\u001b[0m\u001b[0mlog\u001b[0m\u001b[0;34m.\u001b[0m\u001b[0mwarning\u001b[0m\u001b[0;34m(\u001b[0m\u001b[0;34m\"Invalid Message:\"\u001b[0m\u001b[0;34m,\u001b[0m \u001b[0mexc_info\u001b[0m\u001b[0;34m=\u001b[0m\u001b[0;32mTrue\u001b[0m\u001b[0;34m)\u001b[0m\u001b[0;34m\u001b[0m\u001b[0;34m\u001b[0m\u001b[0m\n",
            "\u001b[0;31mKeyboardInterrupt\u001b[0m: Interrupted by user"
          ]
        }
      ],
      "source": [
        "class Library:\n",
        "    def __init__(self):\n",
        "        self.filename = \"books.txt\"\n",
        "\n",
        "    def list_books(self):\n",
        "        with open(self.filename, \"r\") as file:\n",
        "            lines = file.read().splitlines()\n",
        "            print(\"  Book Name\", end=\"\")\n",
        "            for _ in range(25 - len(\" Book Name\")):\n",
        "                print(\" \", end=\"\")\n",
        "            print(\"  Author\", end=\"\")\n",
        "            for _ in range(20 - len(\" Author\")):\n",
        "                print(\" \", end=\"\")\n",
        "            print(\"  Release Date\", end=\"\")\n",
        "            for _ in range(20 - len(\" Release Date\")):\n",
        "                print(\" \", end=\"\")\n",
        "            print(\"  Number of Page\")\n",
        "\n",
        "        for line in lines:\n",
        "            book_data = line.split(',')\n",
        "            print(book_data[0],\",\", end=\"\")\n",
        "            for _ in range(25 - len(book_data[0])):\n",
        "                print(\" \", end=\"\")\n",
        "            print(book_data[1],\",\", end=\"\")\n",
        "            for _ in range(20 - len(book_data[1])):\n",
        "                print(\" \", end=\"\")\n",
        "            print(book_data[2],\",\", end=\"\")\n",
        "            for _ in range(20 - len(book_data[2])):\n",
        "                print(\" \", end=\"\")\n",
        "            print( book_data [3])\n",
        "\n",
        "\n",
        "    def add_book(self):\n",
        "        name = input(\"Enter book name: \")\n",
        "        author = input(\"Enter author: \")\n",
        "        date = input(\"Enter release date: \")\n",
        "        pages = int(input(\"Enter number of pages: \"))\n",
        "        with open(self.filename, \"a\") as file:\n",
        "            file.write(f\"{name},{author},{date},{pages}\\n\")\n",
        "        print(\"Book added successfully!!!\")\n",
        "\n",
        "    def remove_book(self):\n",
        "        name = input(\"Enter the name of the book you want to remove: \")\n",
        "        updated_books = []\n",
        "        with open(self.filename, \"r\") as file:\n",
        "            lines = file.readlines()\n",
        "            for line in lines:\n",
        "                if not line.startswith(name):\n",
        "                    updated_books.append(line)\n",
        "        with open(self.filename, \"w\") as file:\n",
        "            for book in updated_books:\n",
        "                file.write(book)\n",
        "        print(\"Book removed successfully!!!\")\n",
        "\n",
        "def main():\n",
        "    lib = Library()\n",
        "    while True:\n",
        "        print(\"\\n*** MENU ***\")\n",
        "        print(\"1) List Books\")\n",
        "        print(\"2) Add Book\")\n",
        "        print(\"3) Remove Book\")\n",
        "        choice = input(\"Enter your choice : \")\n",
        "\n",
        "        if choice == '1':\n",
        "            lib.list_books()\n",
        "        elif choice == '2':\n",
        "            lib.add_book()\n",
        "        elif choice == '3':\n",
        "            lib.remove_book()\n",
        "        else:\n",
        "            print(\"Invalid choice. Please enter 1, 2, or 3.\")\n",
        "\n",
        "if __name__ == \"__main__\":\n",
        "    main()"
      ]
    }
  ]
}